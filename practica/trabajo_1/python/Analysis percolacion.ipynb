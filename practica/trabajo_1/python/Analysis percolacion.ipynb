{
 "cells": [
  {
   "cell_type": "code",
   "execution_count": 25,
   "metadata": {},
   "outputs": [],
   "source": [
    "import ast\n",
    "import os\n",
    "\n",
    "import matplotlib.pyplot as plt\n",
    "import numpy as np\n",
    "import pandas as pd\n",
    "from scipy.stats import norm\n",
    "from scipy.optimize import curve_fit\n",
    "\n",
    "\n",
    "def get_path(fname):\n",
    "    return os.path.join(\n",
    "        '/Users/felipe/git-repos/computacional/practica/trabajo_1/valores',\n",
    "        fname)\n",
    "\n",
    "\n",
    "DIMS = [4, 16, 32, 64, 128]"
   ]
  },
  {
   "cell_type": "markdown",
   "metadata": {},
   "source": [
    "Valores para Ejercicio a)"
   ]
  },
  {
   "cell_type": "code",
   "execution_count": null,
   "metadata": {},
   "outputs": [],
   "source": [
    "df = pd.read_csv(get_path('valores_a.dat'))\n",
    "probabilidades_criticas = df.groupby('L').agg(['mean', 'std'])\n",
    "\n",
    "probabilidades_criticas"
   ]
  },
  {
   "cell_type": "markdown",
   "metadata": {},
   "source": [
    "### F(p)"
   ]
  },
  {
   "cell_type": "code",
   "execution_count": null,
   "metadata": {},
   "outputs": [],
   "source": [
    "# F(P)\n",
    "\n",
    "for dim in DIMS:\n",
    "    df = pd.read_csv(f'../valores/{dim}.dat')\n",
    "    plt.plot(df.p, df['F(p)'], label=f'L = {dim}')\n",
    "plt.grid()\n",
    "plt.xlabel('Probabilidad de llenado de red')\n",
    "plt.ylabel('Probabilidad de percolacion')\n",
    "plt.legend()\n",
    "plt.show()"
   ]
  },
  {
   "cell_type": "markdown",
   "metadata": {},
   "source": [
    "### f(p)"
   ]
  },
  {
   "cell_type": "code",
   "execution_count": null,
   "metadata": {},
   "outputs": [],
   "source": [
    "for dim in DIMS:\n",
    "    df = pd.read_csv(get_path(f'{dim}.dat'))\n",
    "    plt.plot(df.p, np.gradient(df['F(p)'], df.p), label=f'L = {dim}')\n",
    "plt.grid()\n",
    "plt.xlabel('Probabilidad de llenado de red')\n",
    "plt.legend()\n",
    "plt.show()"
   ]
  },
  {
   "cell_type": "markdown",
   "metadata": {},
   "source": [
    "### Probabilidad critica en funcion del ancho"
   ]
  },
  {
   "cell_type": "code",
   "execution_count": null,
   "metadata": {},
   "outputs": [],
   "source": [
    "p_c_mediana = []\n",
    "p_c_media = []\n",
    "anchos = []\n",
    "\n",
    "for dim in DIMS:\n",
    "    df = pd.read_csv(get_path(f'{dim}.dat'))\n",
    "    f = np.gradient(df['F(p)'], df.p)\n",
    "    mu, std = norm.fit(f)\n",
    "\n",
    "    p_c_mediana.append(df[df['F(p)'] >= 0.5].p.min())\n",
    "    p_c_media.append(np.trapz(f * df.p, df.p))\n",
    "    anchos.append(np.sqrt(np.trapz(f * df.p * df.p, df.p) - np.trapz(f * df.p, df.p) ** 2))\n",
    "\n",
    "print(p_c_media)\n",
    "print(anchos)"
   ]
  },
  {
   "cell_type": "code",
   "execution_count": null,
   "metadata": {},
   "outputs": [],
   "source": [
    "!pip3 install sklearn"
   ]
  },
  {
   "cell_type": "code",
   "execution_count": null,
   "metadata": {},
   "outputs": [],
   "source": [
    "x = np.arange(0, 0.07, 0.01)\n",
    "coeffs, cov = np.polyfit(anchos[1:], p_c_media[1:], 1, w=list(map(lambda x: 1 / x ** 1.3, anchos[1:])), cov=True)\n",
    "\n",
    "print('({:.4f} \\pm {:.4f})'.format(coeffs[-1], np.sqrt(cov[-1, -1])))\n",
    "\n",
    "plt.plot(anchos[1:], p_c_media[1:], '*', label='Datos')\n",
    "plt.plot(x, sum([x ** i * coeff for i, coeff in enumerate(np.flip(coeffs))]), 'r', label='Ajuste')\n",
    "plt.xlabel('Dispercion')\n",
    "plt.ylabel('Probabilidad critica')\n",
    "plt.legend()\n",
    "plt.grid()\n",
    "# plt.show()\n",
    "plt.savefig('../images/ajuste.png')"
   ]
  },
  {
   "cell_type": "markdown",
   "metadata": {},
   "source": [
    "### ln(n_s) vs s"
   ]
  },
  {
   "cell_type": "code",
   "execution_count": null,
   "metadata": {},
   "outputs": [],
   "source": [
    "from scipy.special import zeta\n",
    "\n",
    "df = pd.read_csv(get_path('valores_d.dat'))\n",
    "frags = df.query('L == 128').fragmentos.apply(lambda x: np.array(ast.literal_eval(x)) / 128 ** 2).iloc[0]\n",
    "\n",
    "length = 200\n",
    "y = np.log(frags[0:length])\n",
    "x = np.log(np.arange(1, length + 1))\n",
    "p_c = 0.592585\n",
    "\n",
    "\n",
    "def tau(x, tau, b):\n",
    "    return b - tau * x\n",
    "    \n",
    "\n",
    "coeffs, cov = curve_fit(tau, x, y, p0=(2.01, -4))\n",
    "print(fr'\\tau = ({coeffs[0]:.6f} \\pm {cov[0, 0]:.6f})')\n",
    "\n",
    "plt.plot(x, y, '*', label='Datos')\n",
    "plt.plot(x, tau(x, *coeffs), '-', label='Ajuste')\n",
    "plt.grid()\n",
    "plt.legend()\n",
    "plt.ylabel('$n_s$ (log)')\n",
    "plt.xlabel('$s$ (log)')\n",
    "plt.savefig('../images/n_s_vs_s_ajuste.png')\n",
    "plt.close()\n",
    "\n",
    "\n",
    "\n",
    "def tau(x, tau):\n",
    "    return np.log(p_c / zeta(tau - 1)) - tau * x\n",
    "    \n",
    "\n",
    "coeffs, cov = curve_fit(tau, x, y, p0=(2.01, ))\n",
    "print(fr'\\tau = ({coeffs[0]:.6f} \\pm {cov[0, 0]:.6f})')\n",
    "\n",
    "plt.plot(x, y, '*', label='Datos')\n",
    "plt.plot(x, tau(x, *coeffs), '-', label='Ajuste')\n",
    "plt.grid()\n",
    "plt.legend()\n",
    "plt.ylabel('$n_s$ (log)')\n",
    "plt.xlabel('$s$ (log)')\n",
    "plt.savefig('../images/n_s_vs_s_ajuste_mejor.png')"
   ]
  },
  {
   "cell_type": "markdown",
   "metadata": {},
   "source": [
    "### Dimension fractal"
   ]
  },
  {
   "cell_type": "code",
   "execution_count": null,
   "metadata": {},
   "outputs": [],
   "source": [
    "df = pd.read_csv(get_path('valores_3.dat'))"
   ]
  },
  {
   "cell_type": "code",
   "execution_count": null,
   "metadata": {},
   "outputs": [],
   "source": [
    "x = np.log(df.L.values)\n",
    "y = np.log(df.masa.values)\n",
    "\n",
    "coeffs, cov = np.polyfit(x, y, 1, cov=True)\n",
    "\n",
    "print(f'm = ({coeffs[0]:.4f} \\pm {cov[0, 0]:.4f})')\n",
    "\n",
    "plt.plot(x, y, '*')\n",
    "plt.plot(np.arange(x[0], x[-1], (x[-1] - x[0]) / 100), np.arange(x[0], x[-1], (x[-1] - x[0]) / 100) * coeffs[0] + coeffs[1], '-')\n",
    "plt.grid()\n",
    "plt.xlabel('L (log)')\n",
    "plt.ylabel('Masa (log)')\n",
    "plt.savefig('../images/masa_vs_l.png')"
   ]
  },
  {
   "cell_type": "markdown",
   "metadata": {},
   "source": [
    "### P_\\infty"
   ]
  },
  {
   "cell_type": "code",
   "execution_count": null,
   "metadata": {},
   "outputs": [],
   "source": [
    "df = pd.read_csv(get_path('valores_2.dat'))\n",
    "df.masa = df.apply(lambda x: x['masa'] / x['L'] ** 2, axis=1)\n",
    "df = df.query('L == 128')"
   ]
  },
  {
   "cell_type": "code",
   "execution_count": null,
   "metadata": {},
   "outputs": [],
   "source": [
    "x = df.p.values\n",
    "y = df.masa.values\n",
    "\n",
    "plt.plot(x, y, '*')\n",
    "plt.grid()\n",
    "plt.xlabel('p')\n",
    "plt.ylabel('Masa')\n",
    "plt.savefig('../images/masa_vs_p.png')"
   ]
  },
  {
   "cell_type": "code",
   "execution_count": null,
   "metadata": {},
   "outputs": [],
   "source": [
    "from scipy.optimize import curve_fit\n",
    "\n",
    "\n",
    "def beta(x, A, beta):\n",
    "    return A * x ** beta\n",
    "\n",
    "\n",
    "df = pd.read_csv(get_path('valores_2_fino.dat'))\n",
    "df.masa = df.apply(lambda x: x['masa'] / x['L'] ** 2, axis=1)\n",
    "df = df.query('L == 128')\n",
    "\n",
    "x = df.p.values\n",
    "y = df.masa.values\n",
    "\n",
    "p_c = 0.592585\n",
    "p_c = 0.594\n",
    "\n",
    "y = y[x > p_c]\n",
    "x = x[x > p_c]\n",
    "\n",
    "x = x - p_c\n",
    "\n",
    "popt, pcov = curve_fit(beta, x, y, p0=(1, 0.138))\n",
    "\n",
    "print(popt)\n",
    "\n",
    "print(f'beta = ({popt[1]:.4f} \\pm {pcov[1, 1]:.4f})')\n",
    "\n",
    "\n",
    "plt.plot(x, y, '*', label='Datos')\n",
    "plt.plot(x, beta(x, *popt), '-', label='Ajuste')\n",
    "plt.grid()\n",
    "plt.legend()\n",
    "plt.xlabel('p')\n",
    "plt.ylabel('Masa')\n",
    "plt.savefig('../images/masa_vs_p_fit.png')"
   ]
  },
  {
   "cell_type": "markdown",
   "metadata": {},
   "source": [
    "Tomo para L == 128, p_c(128) =0.592585."
   ]
  },
  {
   "cell_type": "markdown",
   "metadata": {},
   "source": [
    "### Ejercicio 4"
   ]
  },
  {
   "cell_type": "code",
   "execution_count": 26,
   "metadata": {},
   "outputs": [],
   "source": [
    "import ast\n",
    "\n",
    "df = pd.read_csv(get_path('valores_4_2.dat'))\n",
    "df.n_s = df.n_s.apply(lambda x: np.array(ast.literal_eval(x)))\n",
    "\n",
    "min_len = df.n_s.apply(len).min()\n",
    "df.n_s = df.n_s.apply(lambda x: x[:min_len])\n",
    "\n",
    "n_s_p_c = df.n_s[df.p.apply(lambda x: abs(x - 0.592639)).idxmin()]"
   ]
  },
  {
   "cell_type": "code",
   "execution_count": 27,
   "metadata": {},
   "outputs": [],
   "source": [
    "df['f_z'] = df.n_s.apply(lambda x: x / n_s_p_c)"
   ]
  },
  {
   "cell_type": "code",
   "execution_count": 28,
   "metadata": {},
   "outputs": [
    {
     "data": {
      "text/html": [
       "<div>\n",
       "<style scoped>\n",
       "    .dataframe tbody tr th:only-of-type {\n",
       "        vertical-align: middle;\n",
       "    }\n",
       "\n",
       "    .dataframe tbody tr th {\n",
       "        vertical-align: top;\n",
       "    }\n",
       "\n",
       "    .dataframe thead th {\n",
       "        text-align: right;\n",
       "    }\n",
       "</style>\n",
       "<table border=\"1\" class=\"dataframe\">\n",
       "  <thead>\n",
       "    <tr style=\"text-align: right;\">\n",
       "      <th></th>\n",
       "      <th>p</th>\n",
       "      <th>n_s</th>\n",
       "      <th>f_z</th>\n",
       "    </tr>\n",
       "  </thead>\n",
       "  <tbody>\n",
       "    <tr>\n",
       "      <th>0</th>\n",
       "      <td>0.400</td>\n",
       "      <td>[221.2705, 64.8822, 40.479, 26.8901, 19.2006, ...</td>\n",
       "      <td>[3.035568768297468, 4.150574778820504, 4.31191...</td>\n",
       "    </tr>\n",
       "    <tr>\n",
       "      <th>1</th>\n",
       "      <td>0.401</td>\n",
       "      <td>[220.2882, 64.581, 40.1907, 26.7525, 19.1517, ...</td>\n",
       "      <td>[3.0220927775933357, 4.1313067342199705, 4.281...</td>\n",
       "    </tr>\n",
       "    <tr>\n",
       "      <th>2</th>\n",
       "      <td>0.402</td>\n",
       "      <td>[219.4952, 64.3836, 40.05, 26.8202, 19.0339, 1...</td>\n",
       "      <td>[3.0112137583238905, 4.118678872320418, 4.2662...</td>\n",
       "    </tr>\n",
       "    <tr>\n",
       "      <th>3</th>\n",
       "      <td>0.403</td>\n",
       "      <td>[218.659, 64.0551, 39.8574, 26.7213, 18.9909, ...</td>\n",
       "      <td>[2.999742086302313, 4.097664421286967, 4.24570...</td>\n",
       "    </tr>\n",
       "    <tr>\n",
       "      <th>4</th>\n",
       "      <td>0.404</td>\n",
       "      <td>[217.6762, 63.8153, 39.6942, 26.5581, 18.8656,...</td>\n",
       "      <td>[2.986259236191328, 4.082324191887206, 4.22832...</td>\n",
       "    </tr>\n",
       "  </tbody>\n",
       "</table>\n",
       "</div>"
      ],
      "text/plain": [
       "       p                                                n_s  \\\n",
       "0  0.400  [221.2705, 64.8822, 40.479, 26.8901, 19.2006, ...   \n",
       "1  0.401  [220.2882, 64.581, 40.1907, 26.7525, 19.1517, ...   \n",
       "2  0.402  [219.4952, 64.3836, 40.05, 26.8202, 19.0339, 1...   \n",
       "3  0.403  [218.659, 64.0551, 39.8574, 26.7213, 18.9909, ...   \n",
       "4  0.404  [217.6762, 63.8153, 39.6942, 26.5581, 18.8656,...   \n",
       "\n",
       "                                                 f_z  \n",
       "0  [3.035568768297468, 4.150574778820504, 4.31191...  \n",
       "1  [3.0220927775933357, 4.1313067342199705, 4.281...  \n",
       "2  [3.0112137583238905, 4.118678872320418, 4.2662...  \n",
       "3  [2.999742086302313, 4.097664421286967, 4.24570...  \n",
       "4  [2.986259236191328, 4.082324191887206, 4.22832...  "
      ]
     },
     "execution_count": 28,
     "metadata": {},
     "output_type": "execute_result"
    }
   ],
   "source": [
    "df.head()"
   ]
  },
  {
   "cell_type": "code",
   "execution_count": 29,
   "metadata": {},
   "outputs": [
    {
     "data": {
      "image/png": "[encoded data removed]",
      "text/plain": [
       "<Figure size 432x288 with 1 Axes>"
      ]
     },
     "metadata": {
      "needs_background": "light"
     },
     "output_type": "display_data"
    }
   ],
   "source": [
    "p_c = 0.5925\n",
    "\n",
    "for i in range(15, 18):\n",
    "    plt.plot(i ** 0.39 * (df.p - p_c) / p_c, np.log(df.f_z.apply(lambda x: x[i])), '.', markersize=2, label=f'{i}')\n",
    "plt.xlabel('z')\n",
    "plt.ylabel('f(z) (log)')\n",
    "plt.grid()\n",
    "plt.legend()\n",
    "plt.savefig('../images/f_vs_z.png')"
   ]
  },
  {
   "cell_type": "markdown",
   "metadata": {},
   "source": [
    "### 5\n"
   ]
  },
  {
   "cell_type": "markdown",
   "metadata": {},
   "source": [
    "Busco f_max para conseguir p_max en funcion de s."
   ]
  },
  {
   "cell_type": "code",
   "execution_count": 33,
   "metadata": {},
   "outputs": [
    {
     "name": "stdout",
     "output_type": "stream",
     "text": [
      "\\sigma = (0.40 \\pm 0.02)\n"
     ]
    },
    {
     "data": {
      "image/png": "[encoded data removed]",
      "text/plain": [
       "<Figure size 432x288 with 1 Axes>"
      ]
     },
     "metadata": {
      "needs_background": "light"
     },
     "output_type": "display_data"
    }
   ],
   "source": [
    "df.f_z = df.f_z.apply(np.array)\n",
    "\n",
    "ss = np.arange(10, 32, 1)\n",
    "p_max = []\n",
    "\n",
    "for s in ss:\n",
    "    index = df.f_z.apply(lambda x: x[s]).idxmax()\n",
    "    p_max.append(df.loc[index].p)\n",
    "    \n",
    "p_max = np.array(p_max)\n",
    "\n",
    "x = np.log(ss)\n",
    "y = np.log(abs(p_max - p_c))\n",
    "\n",
    "coeffs, cov = np.polyfit(x, y, 1, cov=True)\n",
    "\n",
    "print(f'\\sigma = ({-coeffs[0]:.2f} \\pm {np.sqrt(cov[0,0]):.2f})')\n",
    "\n",
    "plt.plot(x, y, '*', label='Datos')\n",
    "plt.plot(x, coeffs[0] * x + coeffs[1], label='Ajuste')\n",
    "plt.grid()\n",
    "plt.xlabel('$s$ (log)')\n",
    "plt.ylabel('$\\epsilon$ (log)')\n",
    "plt.legend()\n",
    "plt.savefig('../images/eps_vs_s_ajuste.png')"
   ]
  },
  {
   "cell_type": "markdown",
   "metadata": {},
   "source": [
    "### Ejercicio 6"
   ]
  },
  {
   "cell_type": "code",
   "execution_count": 34,
   "metadata": {},
   "outputs": [],
   "source": [
    "df = pd.read_csv(get_path('valores_6.dat'))\n",
    "df.n_s = df.n_s.apply(lambda x: np.array(ast.literal_eval(x)))\n",
    "\n",
    "min_len = df.n_s.apply(len).min()\n",
    "df.n_s = df.n_s.apply(lambda x: x[:min_len])"
   ]
  },
  {
   "cell_type": "code",
   "execution_count": 35,
   "metadata": {},
   "outputs": [],
   "source": [
    "from functools import reduce\n",
    "\n",
    "df['m2'] = df.n_s.apply(lambda x: sum(x / 128 ** 2 * np.arange(1, 2001) * np.arange(1, 2001)))"
   ]
  },
  {
   "cell_type": "code",
   "execution_count": 36,
   "metadata": {},
   "outputs": [
    {
     "data": {
      "image/png": "[encoded data removed]",
      "text/plain": [
       "<Figure size 432x288 with 1 Axes>"
      ]
     },
     "metadata": {
      "needs_background": "light"
     },
     "output_type": "display_data"
    }
   ],
   "source": [
    "p_c = 0.572585\n",
    "\n",
    "x = (df.p.values - p_c) / p_c\n",
    "y = df.m2.values\n",
    "\n",
    "plt.plot(x, y)\n",
    "plt.xlabel('$\\epsilon$')\n",
    "plt.ylabel('$m_2$')\n",
    "plt.grid()\n",
    "plt.savefig('../images/m_2_vs_epsilon.png')"
   ]
  },
  {
   "cell_type": "code",
   "execution_count": 37,
   "metadata": {},
   "outputs": [
    {
     "data": {
      "image/png": "[encoded data removed]",
      "text/plain": [
       "<Figure size 432x288 with 1 Axes>"
      ]
     },
     "metadata": {
      "needs_background": "light"
     },
     "output_type": "display_data"
    }
   ],
   "source": [
    "x = (df.p.values - p_c) / p_c\n",
    "y = df.m2.values\n",
    "\n",
    "# Lado Izquierdo\n",
    "\n",
    "x_iz = np.flip(- x[x < - 0.01])\n",
    "y_iz = np.flip(y[x < - 0.01])\n",
    "\n",
    "y_iz = y_iz[x_iz < 0.1]\n",
    "x_iz = x_iz[x_iz < 0.1]\n",
    "\n",
    "e_iz = []\n",
    "gamma_iz = []\n",
    "for i in range (10):\n",
    "    coeffs, cov = np.polyfit(np.log(x_iz[i:]), np.log(y_iz[i:]), 1, cov=True)\n",
    "    \n",
    "    e_iz.append(x_iz[i])\n",
    "    gamma_iz.append(-coeffs[0])\n",
    "\n",
    "e_iz = np.array(e_iz)\n",
    "gamma_iz = np.array(gamma_iz)\n",
    "    \n",
    "# Lado derecho\n",
    "\n",
    "x_d = x[x > 0.01]\n",
    "y_d = y[x > 0.01]\n",
    "\n",
    "y_d = y_d[x_d < 0.2]\n",
    "x_d = x_d[x_d < 0.2]\n",
    "\n",
    "e_d = []\n",
    "gamma_d = []\n",
    "for i in range (10):\n",
    "    coeffs, cov = np.polyfit(np.log(x_d[i:]), np.log(y_d[i:]), 1, cov=True)\n",
    "    \n",
    "    e_d.append(x_d[i])\n",
    "    gamma_d.append(-coeffs[0])\n",
    "    \n",
    "e_d = np.array(e_d)\n",
    "gamma_d = np.array(gamma_d)\n",
    "\n",
    "plt.plot(e_iz, gamma_iz, '*', label='Lado Izquierdo')\n",
    "plt.plot(e_d, gamma_d, 'x', label='Lado Derecho')\n",
    "plt.xlabel('$\\epsilon$')\n",
    "plt.ylabel('$\\gamma$')\n",
    "plt.legend()\n",
    "plt.grid()\n",
    "plt.savefig('../images/gamma_vs_epsilon.png')"
   ]
  },
  {
   "cell_type": "code",
   "execution_count": 38,
   "metadata": {},
   "outputs": [
    {
     "name": "stdout",
     "output_type": "stream",
     "text": [
      "\\gamma = (2.12 \\pm 0.11)\n"
     ]
    },
    {
     "data": {
      "image/png": "[encoded data removed]",
      "text/plain": [
       "<Figure size 432x288 with 1 Axes>"
      ]
     },
     "metadata": {
      "needs_background": "light"
     },
     "output_type": "display_data"
    }
   ],
   "source": [
    "def gamma(x, gamma, A):\n",
    "    return abs(x) ** (- gamma) * A\n",
    "\n",
    "\n",
    "limite = 0.06\n",
    "    \n",
    "\n",
    "coeffs, cov = curve_fit(gamma, x[abs(x) > limite], y[abs(x) > limite], p0=(2.38, 10))\n",
    "print(fr'\\gamma = ({coeffs[0]:.2f} \\pm {np.sqrt(cov[0, 0]):.2f})')\n",
    "\n",
    "plt.plot(x[abs(x) > limite], y[abs(x) > limite], '*', label='Datos ajustados')\n",
    "plt.plot(x[abs(x) <= limite], y[abs(x) <= limite], '*', label='Datos excluidos del ajuste')\n",
    "plt.plot(x, gamma(x, *coeffs), '-', label='Ajuste')\n",
    "plt.grid()\n",
    "plt.legend()\n",
    "plt.ylim([-10, 250])\n",
    "plt.ylabel('$m_2$')\n",
    "plt.xlabel('$\\epsilon$')\n",
    "plt.savefig('../images/m_2_vs_epsilon_ajuste.png')"
   ]
  },
  {
   "cell_type": "markdown",
   "metadata": {},
   "source": [
    "### Renormalizacion"
   ]
  },
  {
   "cell_type": "markdown",
   "metadata": {},
   "source": [
    "Criterio 1: si tengo 3 o 4 percolo"
   ]
  },
  {
   "cell_type": "code",
   "execution_count": 24,
   "metadata": {},
   "outputs": [
    {
     "name": "stdout",
     "output_type": "stream",
     "text": [
      "0.75\n",
      "0.625\n",
      "0.5625\n",
      "0.59375\n",
      "0.609375\n",
      "0.6171875\n",
      "0.62109375\n",
      "0.619140625\n",
      "0.6181640625\n",
      "0.61767578125\n",
      "0.617919921875\n",
      "0.6180419921875\n",
      "0.61798095703125\n",
      "0.618011474609375\n",
      "0.6180267333984375\n",
      "0.6180343627929688\n",
      "0.6180305480957031\n",
      "0.6180324554443359\n",
      "0.6180334091186523\n",
      "0.6180338859558105\n",
      "0.6180341243743896\n",
      "0.6180340051651001\n",
      "0.6180339455604553\n"
     ]
    },
    {
     "data": {
      "image/png": "[encoded data removed]",
      "text/plain": [
       "<Figure size 432x288 with 1 Axes>"
      ]
     },
     "metadata": {
      "needs_background": "light"
     },
     "output_type": "display_data"
    }
   ],
   "source": [
    "def vertical(p):\n",
    "    return p ** 4 + 4 * p ** 3 * (1 - p) + 2 * p ** 2 * (1 - p) ** 2\n",
    "\n",
    "ps = np.arange(0, 1.01, 0.01)\n",
    "\n",
    "p = 0.5\n",
    "for i in range(2, 25):\n",
    "    if vertical(p) - p > 0:\n",
    "        p -= 2 ** (-i)\n",
    "    else:\n",
    "        p += 2 ** (-i)a\n",
    "    print(p)\n",
    "\n",
    "plt.plot(ps, vertical(ps) - ps)\n",
    "plt.grid()\n",
    "plt.show()"
   ]
  }
 ],
 "metadata": {
  "kernelspec": {
   "display_name": "Python 3",
   "language": "python",
   "name": "python3"
  },
  "language_info": {
   "codemirror_mode": {
    "name": "ipython",
    "version": 3
   },
   "file_extension": ".py",
   "mimetype": "text/x-python",
   "name": "python",
   "nbconvert_exporter": "python",
   "pygments_lexer": "ipython3",
   "version": "3.6.7"
  }
 },
 "nbformat": 4,
 "nbformat_minor": 2
}
